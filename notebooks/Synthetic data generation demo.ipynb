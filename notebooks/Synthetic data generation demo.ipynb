{
 "cells": [
  {
   "cell_type": "markdown",
   "metadata": {},
   "source": [
    "# Imports\n",
    "\n",
    "We use *io* for byte IO streaming, *cairosvg* for SVG rasterization, *pdf2image* for PDF rasterization, and *PIL* for image processing:"
   ]
  },
  {
   "cell_type": "code",
   "execution_count": null,
   "metadata": {},
   "outputs": [],
   "source": [
    "import io\n",
    "\n",
    "from cairosvg import svg2png\n",
    "from pdf2image import convert_from_path\n",
    "from PIL import Image"
   ]
  },
  {
   "cell_type": "markdown",
   "metadata": {},
   "source": [
    "# Synthetic data generation\n",
    "\n",
    "First we load an example document. We use a low DPI (dots per inch), since the added detail is not expected to increase detection accuracy:"
   ]
  },
  {
   "cell_type": "code",
   "execution_count": null,
   "metadata": {},
   "outputs": [],
   "source": [
    "pdf_file = '../data/documents/ak10900_selostus.pdf'\n",
    "\n",
    "pdf_page = convert_from_path(pdf_file, dpi=50)"
   ]
  },
  {
   "cell_type": "markdown",
   "metadata": {},
   "source": [
    "We can visualize one of the pages by simply indexing into the list:"
   ]
  },
  {
   "cell_type": "code",
   "execution_count": null,
   "metadata": {
    "tags": []
   },
   "outputs": [],
   "source": [
    "print('Image size:', pdf_page[0].size, '(px)')\n",
    "pdf_page[0]"
   ]
  },
  {
   "cell_type": "markdown",
   "metadata": {},
   "source": [
    "And here's one of the pages that originally may have contained a signature:"
   ]
  },
  {
   "cell_type": "code",
   "execution_count": null,
   "metadata": {
    "tags": []
   },
   "outputs": [],
   "source": [
    "print('Image size:', pdf_page[36].size, '(px)')\n",
    "pdf_page[36]"
   ]
  },
  {
   "cell_type": "markdown",
   "metadata": {},
   "source": [
    "Next we'll load the signature of a former US head of state:"
   ]
  },
  {
   "cell_type": "code",
   "execution_count": null,
   "metadata": {
    "tags": []
   },
   "outputs": [],
   "source": [
    "signature = Image.open(io.BytesIO(svg2png(url='https://upload.wikimedia.org/wikipedia/commons/4/46/George_HW_Bush_Signature.svg')))\n",
    "# Reduce the width to be more in line with document\n",
    "signature = signature.resize([signature.width//4, signature.height//4])\n",
    "print('Image size:', signature.size, '(px)')\n",
    "signature"
   ]
  },
  {
   "cell_type": "markdown",
   "metadata": {},
   "source": [
    "Finally we simply paste the signature onto the target document page at the correct location:"
   ]
  },
  {
   "cell_type": "code",
   "execution_count": null,
   "metadata": {},
   "outputs": [],
   "source": [
    "page = pdf_page[36].copy()\n",
    "page.paste(signature, [130,360], signature)\n",
    "page"
   ]
  }
 ],
 "metadata": {
  "kernelspec": {
   "display_name": "Python 3",
   "language": "python",
   "name": "python3"
  },
  "language_info": {
   "codemirror_mode": {
    "name": "ipython",
    "version": 3
   },
   "file_extension": ".py",
   "mimetype": "text/x-python",
   "name": "python",
   "nbconvert_exporter": "python",
   "pygments_lexer": "ipython3",
   "version": "3.8.3"
  }
 },
 "nbformat": 4,
 "nbformat_minor": 4
}
